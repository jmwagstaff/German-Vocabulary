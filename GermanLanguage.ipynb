{
 "cells": [
  {
   "cell_type": "markdown",
   "metadata": {},
   "source": [
    "# German Vocabulary Tester\n",
    "\n",
    "This is a short program to save and update a list of German vocabulary that I recently learnt. The plan is to then use this dataset to test my knowledge in a testing program, which will hopefully help me to learn the vocabulary better.\n",
    "\n",
    "## Runing the whole script"
   ]
  },
  {
   "cell_type": "code",
   "execution_count": 1,
   "metadata": {},
   "outputs": [
    {
     "name": "stdout",
     "output_type": "stream",
     "text": [
      "Type (verb, noun, adj) or (quit): noun\n",
      "Artikel (der, die, das): die\n",
      "Word: Prüfung\n",
      "Synonym: \n",
      "Antonym: \n",
      "Translation 1: test\n",
      "Translation 2: \n",
      "Translation 3: \n",
      "Beispiel Satz: \n",
      "Type (verb, noun, adj) or (quit): \n"
     ]
    },
    {
     "data": {
      "text/html": [
       "<div>\n",
       "<style>\n",
       "    .dataframe thead tr:only-child th {\n",
       "        text-align: right;\n",
       "    }\n",
       "\n",
       "    .dataframe thead th {\n",
       "        text-align: left;\n",
       "    }\n",
       "\n",
       "    .dataframe tbody tr th {\n",
       "        vertical-align: top;\n",
       "    }\n",
       "</style>\n",
       "<table border=\"1\" class=\"dataframe\">\n",
       "  <thead>\n",
       "    <tr style=\"text-align: right;\">\n",
       "      <th></th>\n",
       "      <th>Type</th>\n",
       "      <th>Artikel</th>\n",
       "      <th>Word</th>\n",
       "      <th>Synomym</th>\n",
       "      <th>Antonym</th>\n",
       "      <th>Präteritum</th>\n",
       "      <th>Perfekt</th>\n",
       "      <th>Translation1</th>\n",
       "      <th>Translation2</th>\n",
       "      <th>Translation3</th>\n",
       "      <th>BeispielSatz</th>\n",
       "    </tr>\n",
       "  </thead>\n",
       "  <tbody>\n",
       "    <tr>\n",
       "      <th>0</th>\n",
       "      <td>noun</td>\n",
       "      <td>die</td>\n",
       "      <td>Prüfung</td>\n",
       "      <td></td>\n",
       "      <td></td>\n",
       "      <td></td>\n",
       "      <td></td>\n",
       "      <td>test</td>\n",
       "      <td></td>\n",
       "      <td></td>\n",
       "      <td></td>\n",
       "    </tr>\n",
       "  </tbody>\n",
       "</table>\n",
       "</div>"
      ],
      "text/plain": [
       "   Type Artikel     Word Synomym Antonym Präteritum Perfekt Translation1  \\\n",
       "0  noun     die  Prüfung                                            test   \n",
       "\n",
       "  Translation2 Translation3 BeispielSatz  \n",
       "0                                         "
      ]
     },
     "metadata": {},
     "output_type": "display_data"
    }
   ],
   "source": [
    "# Run the whole script here\n",
    "# The script is written in details below\n",
    "%run GermanVocab.py"
   ]
  },
  {
   "cell_type": "code",
   "execution_count": 4,
   "metadata": {},
   "outputs": [],
   "source": [
    "# To see the whole updated list\n",
    "#display(germanVocab)"
   ]
  },
  {
   "cell_type": "markdown",
   "metadata": {},
   "source": [
    "# Script in detail"
   ]
  },
  {
   "cell_type": "code",
   "execution_count": 5,
   "metadata": {
    "collapsed": true
   },
   "outputs": [],
   "source": [
    "# First let us import the required packages\n",
    "import numpy as np\n",
    "import pandas as pd"
   ]
  },
  {
   "cell_type": "code",
   "execution_count": 6,
   "metadata": {},
   "outputs": [
    {
     "data": {
      "text/html": [
       "<div>\n",
       "<style>\n",
       "    .dataframe thead tr:only-child th {\n",
       "        text-align: right;\n",
       "    }\n",
       "\n",
       "    .dataframe thead th {\n",
       "        text-align: left;\n",
       "    }\n",
       "\n",
       "    .dataframe tbody tr th {\n",
       "        vertical-align: top;\n",
       "    }\n",
       "</style>\n",
       "<table border=\"1\" class=\"dataframe\">\n",
       "  <thead>\n",
       "    <tr style=\"text-align: right;\">\n",
       "      <th></th>\n",
       "      <th>Type</th>\n",
       "      <th>Artikel</th>\n",
       "      <th>Word</th>\n",
       "      <th>Synomym</th>\n",
       "      <th>Antonym</th>\n",
       "      <th>Präteritum</th>\n",
       "      <th>Perfekt</th>\n",
       "      <th>Translation1</th>\n",
       "      <th>Translation2</th>\n",
       "      <th>Translation3</th>\n",
       "      <th>BeispielSatz</th>\n",
       "    </tr>\n",
       "  </thead>\n",
       "  <tbody>\n",
       "    <tr>\n",
       "      <th>0</th>\n",
       "      <td>noun</td>\n",
       "      <td>die</td>\n",
       "      <td>Bildung</td>\n",
       "      <td>NaN</td>\n",
       "      <td>NaN</td>\n",
       "      <td>NaN</td>\n",
       "      <td>NaN</td>\n",
       "      <td>training</td>\n",
       "      <td>NaN</td>\n",
       "      <td>NaN</td>\n",
       "      <td>NaN</td>\n",
       "    </tr>\n",
       "    <tr>\n",
       "      <th>1</th>\n",
       "      <td>noun</td>\n",
       "      <td>der</td>\n",
       "      <td>Großhandel</td>\n",
       "      <td>NaN</td>\n",
       "      <td>NaN</td>\n",
       "      <td>NaN</td>\n",
       "      <td>NaN</td>\n",
       "      <td>B2B</td>\n",
       "      <td>NaN</td>\n",
       "      <td>NaN</td>\n",
       "      <td>NaN</td>\n",
       "    </tr>\n",
       "    <tr>\n",
       "      <th>2</th>\n",
       "      <td>noun</td>\n",
       "      <td>der</td>\n",
       "      <td>Maschinenbau</td>\n",
       "      <td>NaN</td>\n",
       "      <td>NaN</td>\n",
       "      <td>NaN</td>\n",
       "      <td>NaN</td>\n",
       "      <td>Machine building</td>\n",
       "      <td>NaN</td>\n",
       "      <td>NaN</td>\n",
       "      <td>NaN</td>\n",
       "    </tr>\n",
       "    <tr>\n",
       "      <th>3</th>\n",
       "      <td>noun</td>\n",
       "      <td>die</td>\n",
       "      <td>Metallindustrie</td>\n",
       "      <td>NaN</td>\n",
       "      <td>NaN</td>\n",
       "      <td>NaN</td>\n",
       "      <td>NaN</td>\n",
       "      <td>Metal industry</td>\n",
       "      <td>NaN</td>\n",
       "      <td>NaN</td>\n",
       "      <td>NaN</td>\n",
       "    </tr>\n",
       "  </tbody>\n",
       "</table>\n",
       "</div>"
      ],
      "text/plain": [
       "   Type Artikel             Word  Synomym  Antonym Präteritum Perfekt  \\\n",
       "0  noun     die          Bildung      NaN      NaN        NaN     NaN   \n",
       "1  noun     der       Großhandel      NaN      NaN        NaN     NaN   \n",
       "2  noun     der     Maschinenbau      NaN      NaN        NaN     NaN   \n",
       "3  noun     die  Metallindustrie      NaN      NaN        NaN     NaN   \n",
       "\n",
       "       Translation1 Translation2 Translation3 BeispielSatz  \n",
       "0          training          NaN          NaN          NaN  \n",
       "1               B2B          NaN          NaN          NaN  \n",
       "2  Machine building          NaN          NaN          NaN  \n",
       "3    Metal industry          NaN          NaN          NaN  "
      ]
     },
     "execution_count": 6,
     "metadata": {},
     "output_type": "execute_result"
    }
   ],
   "source": [
    "# Let's read-in the vocab dataset\n",
    "germanVocab = pd.read_csv('germanVocab.csv')\n",
    "germanVocab.head(4)"
   ]
  },
  {
   "cell_type": "code",
   "execution_count": 7,
   "metadata": {},
   "outputs": [
    {
     "name": "stdout",
     "output_type": "stream",
     "text": [
      "Type (verb, noun, adj) or (quit): noun\n",
      "Artikel (der, die, das): die\n",
      "Word: Prüfung\n",
      "Synonym: \n",
      "Antonym: \n",
      "Translation 1: test\n",
      "Translation 2: \n",
      "Translation 3: \n",
      "Beispiel Satz: \n",
      "Type (verb, noun, adj) or (quit): quit\n"
     ]
    }
   ],
   "source": [
    "# Initialise empty dataframe. There's probably a beter way, I should check.\n",
    "data = pd.DataFrame([])\n",
    "while True: # start the data input loop\n",
    "    newType = input(\"Type (verb, noun, adj) or (quit): \") # first ask for the word type\n",
    "    \n",
    "    # Condition to exit the loop\n",
    "    if newType == \"quit\": \n",
    "        break\n",
    "        \n",
    "    # If 'noun' ask for artikel, else set to blank   \n",
    "    if newType == \"noun\": \n",
    "        newArtikel = input(\"Artikel (der, die, das): \")\n",
    "    else:\n",
    "        newArtikel = \"\"\n",
    "        \n",
    "    # ask for the word/infinitiv\n",
    "    newWord = input(\"Word: \")\n",
    "    \n",
    "    # ask for synonyms and antonyms\n",
    "    newSyn = input(\"Synonym: \")\n",
    "    newAnto = input(\"Antonym: \")\n",
    "    \n",
    "    # If 'verb' ask for Präteritum and Perfekt\n",
    "    if newType == \"verb\":\n",
    "        praeteritum = input(\"Präteritum: \")\n",
    "        perfekt = input(\"Perfekt (ink. ist, hat): \")\n",
    "    else:\n",
    "        praeteritum = \"\"\n",
    "        perfekt = \"\"\n",
    "    \n",
    "    # Ask for translations into english\n",
    "    newTrans1 = input(\"Translation 1: \")\n",
    "    newTrans2 = input(\"Translation 2: \")\n",
    "    newTrans3 = input(\"Translation 3: \")\n",
    "    \n",
    "    # Ask for example Satz\n",
    "    newSatz = input(\"Beispiel Satz: \")\n",
    "    \n",
    "    # Build a new dataframe from this input information\n",
    "    newdata = pd.DataFrame([newType, newArtikel, newWord, newSyn, newAnto, praeteritum, perfekt,\n",
    "                            newTrans1, newTrans2, newTrans3, newSatz])\n",
    "    # Add it into the empty data frame ignoring the index. I thnk there's a better way, I need to check.\n",
    "    data = pd.concat([data, newdata.T], ignore_index=True)\n",
    "    "
   ]
  },
  {
   "cell_type": "code",
   "execution_count": 8,
   "metadata": {},
   "outputs": [
    {
     "data": {
      "text/html": [
       "<div>\n",
       "<style>\n",
       "    .dataframe thead tr:only-child th {\n",
       "        text-align: right;\n",
       "    }\n",
       "\n",
       "    .dataframe thead th {\n",
       "        text-align: left;\n",
       "    }\n",
       "\n",
       "    .dataframe tbody tr th {\n",
       "        vertical-align: top;\n",
       "    }\n",
       "</style>\n",
       "<table border=\"1\" class=\"dataframe\">\n",
       "  <thead>\n",
       "    <tr style=\"text-align: right;\">\n",
       "      <th></th>\n",
       "      <th>Type</th>\n",
       "      <th>Artikel</th>\n",
       "      <th>Word</th>\n",
       "      <th>Synomym</th>\n",
       "      <th>Antonym</th>\n",
       "      <th>Präteritum</th>\n",
       "      <th>Perfekt</th>\n",
       "      <th>Translation1</th>\n",
       "      <th>Translation2</th>\n",
       "      <th>Translation3</th>\n",
       "      <th>BeispielSatz</th>\n",
       "    </tr>\n",
       "  </thead>\n",
       "  <tbody>\n",
       "    <tr>\n",
       "      <th>0</th>\n",
       "      <td>noun</td>\n",
       "      <td>die</td>\n",
       "      <td>Prüfung</td>\n",
       "      <td></td>\n",
       "      <td></td>\n",
       "      <td></td>\n",
       "      <td></td>\n",
       "      <td>test</td>\n",
       "      <td></td>\n",
       "      <td></td>\n",
       "      <td></td>\n",
       "    </tr>\n",
       "  </tbody>\n",
       "</table>\n",
       "</div>"
      ],
      "text/plain": [
       "   Type Artikel     Word Synomym Antonym Präteritum Perfekt Translation1  \\\n",
       "0  noun     die  Prüfung                                            test   \n",
       "\n",
       "  Translation2 Translation3 BeispielSatz  \n",
       "0                                         "
      ]
     },
     "execution_count": 8,
     "metadata": {},
     "output_type": "execute_result"
    }
   ],
   "source": [
    "# Create an index object for the column names\n",
    "indA = pd.Index(['Type', 'Artikel', 'Word', 'Synomym', 'Antonym', 'Präteritum', 'Perfekt', \n",
    "                 'Translation1', 'Translation2', 'Translation3', 'BeispielSatz']) # create index\n",
    "data.columns = indA\n",
    "data"
   ]
  },
  {
   "cell_type": "code",
   "execution_count": 9,
   "metadata": {},
   "outputs": [
    {
     "data": {
      "text/html": [
       "<div>\n",
       "<style>\n",
       "    .dataframe thead tr:only-child th {\n",
       "        text-align: right;\n",
       "    }\n",
       "\n",
       "    .dataframe thead th {\n",
       "        text-align: left;\n",
       "    }\n",
       "\n",
       "    .dataframe tbody tr th {\n",
       "        vertical-align: top;\n",
       "    }\n",
       "</style>\n",
       "<table border=\"1\" class=\"dataframe\">\n",
       "  <thead>\n",
       "    <tr style=\"text-align: right;\">\n",
       "      <th></th>\n",
       "      <th>Type</th>\n",
       "      <th>Artikel</th>\n",
       "      <th>Word</th>\n",
       "      <th>Synomym</th>\n",
       "      <th>Antonym</th>\n",
       "      <th>Präteritum</th>\n",
       "      <th>Perfekt</th>\n",
       "      <th>Translation1</th>\n",
       "      <th>Translation2</th>\n",
       "      <th>Translation3</th>\n",
       "      <th>BeispielSatz</th>\n",
       "    </tr>\n",
       "  </thead>\n",
       "  <tbody>\n",
       "    <tr>\n",
       "      <th>0</th>\n",
       "      <td>noun</td>\n",
       "      <td>die</td>\n",
       "      <td>Bildung</td>\n",
       "      <td>NaN</td>\n",
       "      <td>NaN</td>\n",
       "      <td>NaN</td>\n",
       "      <td>NaN</td>\n",
       "      <td>training</td>\n",
       "      <td>NaN</td>\n",
       "      <td>NaN</td>\n",
       "      <td>NaN</td>\n",
       "    </tr>\n",
       "    <tr>\n",
       "      <th>1</th>\n",
       "      <td>noun</td>\n",
       "      <td>der</td>\n",
       "      <td>Großhandel</td>\n",
       "      <td>NaN</td>\n",
       "      <td>NaN</td>\n",
       "      <td>NaN</td>\n",
       "      <td>NaN</td>\n",
       "      <td>B2B</td>\n",
       "      <td>NaN</td>\n",
       "      <td>NaN</td>\n",
       "      <td>NaN</td>\n",
       "    </tr>\n",
       "  </tbody>\n",
       "</table>\n",
       "</div>"
      ],
      "text/plain": [
       "   Type Artikel        Word  Synomym  Antonym Präteritum Perfekt Translation1  \\\n",
       "0  noun     die     Bildung      NaN      NaN        NaN     NaN     training   \n",
       "1  noun     der  Großhandel      NaN      NaN        NaN     NaN          B2B   \n",
       "\n",
       "  Translation2 Translation3 BeispielSatz  \n",
       "0          NaN          NaN          NaN  \n",
       "1          NaN          NaN          NaN  "
      ]
     },
     "execution_count": 9,
     "metadata": {},
     "output_type": "execute_result"
    }
   ],
   "source": [
    "germanVocab.head(2)"
   ]
  },
  {
   "cell_type": "code",
   "execution_count": 162,
   "metadata": {
    "collapsed": true
   },
   "outputs": [],
   "source": [
    "#data.columns = germanVocab.columns\n",
    "#data.columns"
   ]
  },
  {
   "cell_type": "code",
   "execution_count": 11,
   "metadata": {},
   "outputs": [
    {
     "data": {
      "text/html": [
       "<div>\n",
       "<style>\n",
       "    .dataframe thead tr:only-child th {\n",
       "        text-align: right;\n",
       "    }\n",
       "\n",
       "    .dataframe thead th {\n",
       "        text-align: left;\n",
       "    }\n",
       "\n",
       "    .dataframe tbody tr th {\n",
       "        vertical-align: top;\n",
       "    }\n",
       "</style>\n",
       "<table border=\"1\" class=\"dataframe\">\n",
       "  <thead>\n",
       "    <tr style=\"text-align: right;\">\n",
       "      <th></th>\n",
       "      <th>Type</th>\n",
       "      <th>Artikel</th>\n",
       "      <th>Word</th>\n",
       "      <th>Synomym</th>\n",
       "      <th>Antonym</th>\n",
       "      <th>Präteritum</th>\n",
       "      <th>Perfekt</th>\n",
       "      <th>Translation1</th>\n",
       "      <th>Translation2</th>\n",
       "      <th>Translation3</th>\n",
       "      <th>BeispielSatz</th>\n",
       "    </tr>\n",
       "  </thead>\n",
       "  <tbody>\n",
       "    <tr>\n",
       "      <th>0</th>\n",
       "      <td>noun</td>\n",
       "      <td>die</td>\n",
       "      <td>Bildung</td>\n",
       "      <td>NaN</td>\n",
       "      <td>NaN</td>\n",
       "      <td>NaN</td>\n",
       "      <td>NaN</td>\n",
       "      <td>training</td>\n",
       "      <td>NaN</td>\n",
       "      <td>NaN</td>\n",
       "      <td>NaN</td>\n",
       "    </tr>\n",
       "    <tr>\n",
       "      <th>1</th>\n",
       "      <td>noun</td>\n",
       "      <td>der</td>\n",
       "      <td>Großhandel</td>\n",
       "      <td>NaN</td>\n",
       "      <td>NaN</td>\n",
       "      <td>NaN</td>\n",
       "      <td>NaN</td>\n",
       "      <td>B2B</td>\n",
       "      <td>NaN</td>\n",
       "      <td>NaN</td>\n",
       "      <td>NaN</td>\n",
       "    </tr>\n",
       "    <tr>\n",
       "      <th>2</th>\n",
       "      <td>noun</td>\n",
       "      <td>der</td>\n",
       "      <td>Maschinenbau</td>\n",
       "      <td>NaN</td>\n",
       "      <td>NaN</td>\n",
       "      <td>NaN</td>\n",
       "      <td>NaN</td>\n",
       "      <td>Machine building</td>\n",
       "      <td>NaN</td>\n",
       "      <td>NaN</td>\n",
       "      <td>NaN</td>\n",
       "    </tr>\n",
       "  </tbody>\n",
       "</table>\n",
       "</div>"
      ],
      "text/plain": [
       "   Type Artikel          Word Synomym Antonym Präteritum Perfekt  \\\n",
       "0  noun     die       Bildung     NaN     NaN        NaN     NaN   \n",
       "1  noun     der    Großhandel     NaN     NaN        NaN     NaN   \n",
       "2  noun     der  Maschinenbau     NaN     NaN        NaN     NaN   \n",
       "\n",
       "       Translation1 Translation2 Translation3 BeispielSatz  \n",
       "0          training          NaN          NaN          NaN  \n",
       "1               B2B          NaN          NaN          NaN  \n",
       "2  Machine building          NaN          NaN          NaN  "
      ]
     },
     "execution_count": 11,
     "metadata": {},
     "output_type": "execute_result"
    }
   ],
   "source": [
    "# Here we append the new entries to the old ones\n",
    "germanVocab = pd.concat([germanVocab, data], ignore_index=True)\n",
    "germanVocab[indA].head(3) # re-orders the columns"
   ]
  },
  {
   "cell_type": "code",
   "execution_count": 18,
   "metadata": {},
   "outputs": [
    {
     "data": {
      "text/html": [
       "<div>\n",
       "<style>\n",
       "    .dataframe thead tr:only-child th {\n",
       "        text-align: right;\n",
       "    }\n",
       "\n",
       "    .dataframe thead th {\n",
       "        text-align: left;\n",
       "    }\n",
       "\n",
       "    .dataframe tbody tr th {\n",
       "        vertical-align: top;\n",
       "    }\n",
       "</style>\n",
       "<table border=\"1\" class=\"dataframe\">\n",
       "  <thead>\n",
       "    <tr style=\"text-align: right;\">\n",
       "      <th></th>\n",
       "      <th>Type</th>\n",
       "      <th>Artikel</th>\n",
       "      <th>Word</th>\n",
       "      <th>Synomym</th>\n",
       "      <th>Antonym</th>\n",
       "      <th>Präteritum</th>\n",
       "      <th>Perfekt</th>\n",
       "      <th>Translation1</th>\n",
       "      <th>Translation2</th>\n",
       "      <th>Translation3</th>\n",
       "      <th>BeispielSatz</th>\n",
       "    </tr>\n",
       "  </thead>\n",
       "  <tbody>\n",
       "  </tbody>\n",
       "</table>\n",
       "</div>"
      ],
      "text/plain": [
       "Empty DataFrame\n",
       "Columns: [Type, Artikel, Word, Synomym, Antonym, Präteritum, Perfekt, Translation1, Translation2, Translation3, BeispielSatz]\n",
       "Index: []"
      ]
     },
     "execution_count": 18,
     "metadata": {},
     "output_type": "execute_result"
    }
   ],
   "source": [
    "# Use this piece of code to clear rows and reorder the main file\n",
    "# Be careful when using!\n",
    "#germanVocab = germanVocab.drop(germanVocab.index[[np.arange(0,1)]])\n",
    "#germanVocab.columns = data.columns\n",
    "#germanVocab"
   ]
  },
  {
   "cell_type": "code",
   "execution_count": 19,
   "metadata": {
    "collapsed": true
   },
   "outputs": [],
   "source": [
    "# Finally we export the updated dataset to cvs file\n",
    "germanVocab.to_csv('germanVocab.csv', index=False)"
   ]
  },
  {
   "cell_type": "code",
   "execution_count": null,
   "metadata": {
    "collapsed": true
   },
   "outputs": [],
   "source": []
  }
 ],
 "metadata": {
  "kernelspec": {
   "display_name": "Python 3",
   "language": "python",
   "name": "python3"
  },
  "language_info": {
   "codemirror_mode": {
    "name": "ipython",
    "version": 3
   },
   "file_extension": ".py",
   "mimetype": "text/x-python",
   "name": "python",
   "nbconvert_exporter": "python",
   "pygments_lexer": "ipython3",
   "version": "3.6.2"
  }
 },
 "nbformat": 4,
 "nbformat_minor": 2
}
